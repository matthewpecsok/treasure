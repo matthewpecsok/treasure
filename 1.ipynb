{
  "nbformat": 4,
  "nbformat_minor": 0,
  "metadata": {
    "colab": {
      "provenance": [],
      "authorship_tag": "ABX9TyN3hquM8NLjWlHt7olT+Bem"
    },
    "kernelspec": {
      "name": "python3",
      "display_name": "Python 3"
    },
    "language_info": {
      "name": "python"
    }
  },
  "cells": [
    {
      "cell_type": "markdown",
      "source": [
        "# Welcome to your first clue and challenge! \n",
        "\n",
        "Write code to add the following numbers together. 33 , 943 , 11 , 10055 , 43243 , 156 , 11"
      ],
      "metadata": {
        "id": "Sk5sp3H2CS0h"
      }
    },
    {
      "cell_type": "code",
      "source": [
        "# example below, to add 5 and 6 together.\n",
        "5 + 6"
      ],
      "metadata": {
        "colab": {
          "base_uri": "https://localhost:8080/"
        },
        "id": "LY9y-qctDEH5",
        "outputId": "8506ae04-0e59-4523-d864-675790eba02f"
      },
      "execution_count": 1,
      "outputs": [
        {
          "output_type": "execute_result",
          "data": {
            "text/plain": [
              "11"
            ]
          },
          "metadata": {},
          "execution_count": 1
        }
      ]
    },
    {
      "cell_type": "code",
      "source": [
        "# TO RUN CODE SIMPLY click the play button on the lefthand side of the block\n",
        "# try running this cell to see how it works!\n",
        "\n",
        "4+8"
      ],
      "metadata": {
        "id": "wf_Ce09tDXKV"
      },
      "execution_count": null,
      "outputs": []
    },
    {
      "cell_type": "code",
      "execution_count": 4,
      "metadata": {
        "id": "vqxiKmtOCKGG"
      },
      "outputs": [],
      "source": []
    },
    {
      "cell_type": "markdown",
      "source": [
        "Once you have your answer take your answer and plug it into the following code to get your next challenge! "
      ],
      "metadata": {
        "id": "-LTlBPCWEfhX"
      }
    },
    {
      "cell_type": "code",
      "source": [],
      "metadata": {
        "id": "y4SCJtFLEc_P"
      },
      "execution_count": null,
      "outputs": []
    }
  ]
}